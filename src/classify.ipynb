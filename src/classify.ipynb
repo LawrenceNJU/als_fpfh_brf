{
 "cells": [
  {
   "cell_type": "code",
   "execution_count": 1,
   "metadata": {
    "collapsed": true
   },
   "outputs": [],
   "source": [
    "%matplotlib inline"
   ]
  },
  {
   "cell_type": "code",
   "execution_count": 2,
   "metadata": {
    "collapsed": true
   },
   "outputs": [],
   "source": [
    "import itertools\n",
    "import numpy as np\n",
    "import gc\n",
    "import os, shutil\n",
    "import collections\n",
    "import matplotlib.pylab as plt\n",
    "import matplotlib as mpl\n",
    "\n",
    "from sklearn.ensemble import RandomForestClassifier\n",
    "from sklearn import tree\n",
    "from sklearn import metrics\n",
    "from sklearn.model_selection import train_test_split, cross_val_score\n",
    "from sklearn.externals import joblib\n",
    "from sklearn.model_selection import GridSearchCV\n",
    "from sklearn.metrics import classification_report\n",
    "from sklearn.metrics import confusion_matrix\n",
    "from sklearn.metrics import precision_recall_fscore_support\n",
    "\n",
    "from imblearn.under_sampling import RandomUnderSampler\n",
    "from imblearn.ensemble import EasyEnsemble\n",
    "from sklearn.neighbors import KDTree\n",
    "from sklearn.tree import DecisionTreeClassifier\n",
    "from sklearn.utils import check_random_state"
   ]
  },
  {
   "cell_type": "code",
   "execution_count": 3,
   "metadata": {
    "collapsed": true
   },
   "outputs": [],
   "source": [
    "class_name =  ['Powerline', 'Low Vegetation', 'Impervious Surface', 'Car', 'Fence', 'Roof', 'Facade', 'Shrub', 'Tree']"
   ]
  },
  {
   "cell_type": "code",
   "execution_count": 93,
   "metadata": {
    "collapsed": true
   },
   "outputs": [],
   "source": [
    "def feature_extraction(cloud):\n",
    "    \n",
    "    #calculathe the fpfh data\n",
    "    fpfh = cloud[:, 1:34]\n",
    "    \n",
    "    # calculate the normal vector\n",
    "    normal = cloud[:, 38:41]\n",
    "    \n",
    "    # calculate relative_height\n",
    "    ground_xyz = cloud[cloud[:,0].astype(int)==1,-3:]\n",
    "    kdt = KDTree(ground_xyz[:, 0:2], metric = 'euclidean')\n",
    "    ind = kdt.query(cloud[:, -3:-1], k=1, return_distance = False)\n",
    "    relative_height = cloud[:, -1] - ground_xyz[ind.flatten(), -1]\n",
    "    relative_height = relative_height.reshape([cloud.shape[0], 1])\n",
    "    \n",
    "    # compose feature \n",
    "    feature = np.hstack((fpfh, normal))\n",
    "    feature = np.hstack((feature, relative_height))\n",
    "    return feature"
   ]
  },
  {
   "cell_type": "code",
   "execution_count": 94,
   "metadata": {},
   "outputs": [],
   "source": [
    "train_data = np.loadtxt('./Vaihingen/fpfh_ground/Vaihingen3D_Traininig_fpfh_2_ground.txt', skiprows=11)\n",
    "train_data_feature = feature_extraction(train_data)\n",
    "train_data_class = train_data[:, 34] \n",
    "\n",
    "test_data = np.loadtxt('./Vaihingen/fpfh_ground/Vaihingen3D_EVAL_WITH_REF_fpfh_2_ground.txt', skiprows=11)\n",
    "test_data_feature = feature_extraction(test_data)\n",
    "test_data_class = test_data[:, 34] "
   ]
  },
  {
   "cell_type": "code",
   "execution_count": 108,
   "metadata": {},
   "outputs": [],
   "source": [
    "# RBF classify the data\n",
    "def resample_data(train_feature, train_class, count_sampleset):\n",
    "    \n",
    "    multiplier = {0: 1.0, 1: 0.1, 2: 0.1, 3: 1.0, 4: 1.0, 5: 0.1, 6: 1.0, 7:0.5, 8: 0.1}\n",
    "    target_stats = collections.Counter(train_class)\n",
    "    for key, value in target_stats.items():\n",
    "        target_stats[key] = int(value * multiplier[key])\n",
    "    \n",
    "    ee = EasyEnsemble(ratio=target_stats ,n_subsets=count_sampleset)\n",
    "    return ee.fit_sample(train_feature, train_class)\n",
    "\n",
    "count_learnbase = 50\n",
    "X_resampled, y_resampled = resample_data(train_data_feature, train_data_class, count_learnbase)"
   ]
  },
  {
   "cell_type": "code",
   "execution_count": 110,
   "metadata": {},
   "outputs": [],
   "source": [
    "def train_brf(X_resampled, y_resampled, count_learnbase):\n",
    "    # generalize dicision tree\n",
    "    random_state =42 # in order to every time have the same random discision tree for same data set \n",
    "    random_state = check_random_state(random_state)\n",
    "    random_state = random_state.rand(count_learnbase)\n",
    "    random_state = random_state * 1000000000\n",
    "    random_state = random_state.astype('int')\n",
    "    \n",
    "    clf_estimator = []\n",
    "\n",
    "    for i in range(count_learnbase):\n",
    "        tmp_clf = DecisionTreeClassifier(max_features='auto', random_state=random_state[i])\n",
    "        tmp_clf.fit(X_resampled[i], y_resampled[i])\n",
    "        clf_estimator.append(tmp_clf)\n",
    "    \n",
    "    return clf_estimator\n",
    "\n",
    "clf_estimator = train_brf(X_resampled, y_resampled, count_learnbase)"
   ]
  },
  {
   "cell_type": "code",
   "execution_count": 118,
   "metadata": {},
   "outputs": [],
   "source": [
    "def predict_brf(clf_estimator, X):\n",
    "    first_learnbase = True\n",
    "    for clf in clf_estimator:\n",
    "        if first_learnbase:\n",
    "            predict_X = clf.predict(X)\n",
    "            first_learnbase = False\n",
    "        else:\n",
    "            tmp_predict = clf.predict(X)\n",
    "            predict_X = np.vstack((predict_X, tmp_predict))\n",
    "    predict = np.apply_along_axis(lambda x: np.argmax(np.bincount(x)), axis=0, arr=predict_X.astype('int'))\n",
    "    return predict"
   ]
  },
  {
   "cell_type": "code",
   "execution_count": 120,
   "metadata": {
    "collapsed": true
   },
   "outputs": [],
   "source": [
    "test_predict = predict_brf(clf_estimator, test_data_feature)"
   ]
  },
  {
   "cell_type": "code",
   "execution_count": 121,
   "metadata": {},
   "outputs": [
    {
     "name": "stdout",
     "output_type": "stream",
     "text": [
      "                    precision    recall  f1-score   support\n",
      "\n",
      "         Powerline       0.52      0.14      0.22       600\n",
      "    Low Vegetation       0.61      0.55      0.58     98690\n",
      "Impervious Surface       0.80      0.72      0.75    101986\n",
      "               Car       0.70      0.45      0.55      3708\n",
      "             Fence       0.25      0.18      0.21      7422\n",
      "              Roof       0.89      0.80      0.84    109048\n",
      "            Facade       0.25      0.64      0.36     11224\n",
      "             Shrub       0.33      0.67      0.44     24818\n",
      "              Tree       0.79      0.68      0.73     54226\n",
      "\n",
      "       avg / total       0.72      0.68      0.69    411722\n",
      "\n"
     ]
    }
   ],
   "source": [
    "print(classification_report(test_data_class, test_predict, target_names=class_name))"
   ]
  },
  {
   "cell_type": "code",
   "execution_count": 182,
   "metadata": {
    "collapsed": true
   },
   "outputs": [],
   "source": [
    "precision_recall_fscore = precision_recall_fscore_support(test_data_class, test_predict)\n",
    "precision_recall_fscore_average = precision_recall_fscore_support(test_data_class, test_predict, average='weighted')"
   ]
  },
  {
   "cell_type": "code",
   "execution_count": 185,
   "metadata": {},
   "outputs": [],
   "source": [
    "for i in range(3):\n",
    "    if i == 0:\n",
    "        measure = np.append(precision_recall_fscore[i], average[i])\n",
    "    else:\n",
    "        tmp = np.append(precision_recall_fscore[i], average[i])\n",
    "        measure = np.vstack((measure, tmp))"
   ]
  },
  {
   "cell_type": "code",
   "execution_count": 187,
   "metadata": {},
   "outputs": [
    {
     "data": {
      "text/plain": [
       "(3, 10)"
      ]
     },
     "execution_count": 187,
     "metadata": {},
     "output_type": "execute_result"
    }
   ],
   "source": [
    "measure.shape"
   ]
  },
  {
   "cell_type": "code",
   "execution_count": 195,
   "metadata": {
    "collapsed": true
   },
   "outputs": [],
   "source": [
    "a = measure"
   ]
  },
  {
   "cell_type": "code",
   "execution_count": 196,
   "metadata": {},
   "outputs": [],
   "source": [
    "b = np.dstack((a, a))"
   ]
  },
  {
   "cell_type": "code",
   "execution_count": 197,
   "metadata": {},
   "outputs": [
    {
     "data": {
      "text/plain": [
       "(3, 10, 2)"
      ]
     },
     "execution_count": 197,
     "metadata": {},
     "output_type": "execute_result"
    }
   ],
   "source": [
    "b.shape"
   ]
  },
  {
   "cell_type": "code",
   "execution_count": 210,
   "metadata": {
    "collapsed": true
   },
   "outputs": [],
   "source": [
    "np.save('measure.npy', measure)"
   ]
  },
  {
   "cell_type": "code",
   "execution_count": 211,
   "metadata": {},
   "outputs": [],
   "source": [
    "c = np.load('measure.npy')"
   ]
  },
  {
   "cell_type": "code",
   "execution_count": 213,
   "metadata": {},
   "outputs": [
    {
     "data": {
      "text/plain": [
       "array([[0., 0., 0., 0., 0., 0., 0., 0., 0., 0.],\n",
       "       [0., 0., 0., 0., 0., 0., 0., 0., 0., 0.],\n",
       "       [0., 0., 0., 0., 0., 0., 0., 0., 0., 0.]])"
      ]
     },
     "execution_count": 213,
     "metadata": {},
     "output_type": "execute_result"
    }
   ],
   "source": [
    "c - measure"
   ]
  },
  {
   "cell_type": "code",
   "execution_count": null,
   "metadata": {
    "collapsed": true
   },
   "outputs": [],
   "source": []
  }
 ],
 "metadata": {
  "kernelspec": {
   "display_name": "Python 3",
   "language": "python",
   "name": "python3"
  },
  "language_info": {
   "codemirror_mode": {
    "name": "ipython",
    "version": 3
   },
   "file_extension": ".py",
   "mimetype": "text/x-python",
   "name": "python",
   "nbconvert_exporter": "python",
   "pygments_lexer": "ipython3",
   "version": "3.6.5"
  }
 },
 "nbformat": 4,
 "nbformat_minor": 2
}
